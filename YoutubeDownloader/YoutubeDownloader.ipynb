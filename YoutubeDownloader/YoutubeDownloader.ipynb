{
 "cells": [
  {
   "cell_type": "markdown",
   "id": "1448131d",
   "metadata": {},
   "source": [
    "# Youtube Downloader"
   ]
  },
  {
   "cell_type": "markdown",
   "id": "36c5fb48",
   "metadata": {},
   "source": [
    "The purpose of this project is download a video from youtube and then convert the video into audio."
   ]
  },
  {
   "cell_type": "markdown",
   "id": "3487ca17",
   "metadata": {},
   "source": [
    "**Step 1:** Import the package"
   ]
  },
  {
   "cell_type": "code",
   "execution_count": null,
   "id": "474b2a58",
   "metadata": {},
   "outputs": [],
   "source": [
    "from pytube import YouTube\n",
    "import moviepy.editor as mp"
   ]
  },
  {
   "cell_type": "markdown",
   "id": "17858591",
   "metadata": {},
   "source": [
    "**Step 2:** Get Youtube Link"
   ]
  },
  {
   "cell_type": "code",
   "execution_count": null,
   "id": "96082a1b",
   "metadata": {},
   "outputs": [],
   "source": [
    "link = \"https://www.youtube.com/watch?v=UBxxEyVIdO4&ab_channel=LondonGrammar\""
   ]
  },
  {
   "cell_type": "markdown",
   "id": "af6f4c49",
   "metadata": {},
   "source": [
    "**Step 3:** Call Youtube Function And Assign It To A Variable"
   ]
  },
  {
   "cell_type": "code",
   "execution_count": null,
   "id": "ae2aac11",
   "metadata": {},
   "outputs": [],
   "source": [
    "yt = YouTube(link)"
   ]
  },
  {
   "cell_type": "markdown",
   "id": "eb9ecd19",
   "metadata": {},
   "source": [
    "**Step 4:** Assign Values To Variables"
   ]
  },
  {
   "cell_type": "code",
   "execution_count": null,
   "id": "b22dbdb3",
   "metadata": {},
   "outputs": [],
   "source": [
    "yt.streams.filter(progressive = True, \n",
    "file_extension = \"mp4\").first().download(output_path = \"/Users/katlegomatebane/Desktop\",\n",
    "filename = \"Video.mp4\")"
   ]
  },
  {
   "cell_type": "markdown",
   "id": "697503c9",
   "metadata": {},
   "source": [
    "**Step 5:** Assign Video To A Variable Named 'Video'"
   ]
  },
  {
   "cell_type": "code",
   "execution_count": null,
   "id": "21a46368",
   "metadata": {},
   "outputs": [],
   "source": [
    "video = mp.VideoFileClip(r'/Users/katlegomatebane/Desktop/Video.mp4')"
   ]
  },
  {
   "cell_type": "markdown",
   "id": "2cab166b",
   "metadata": {},
   "source": [
    "**Step 6:** Convert Video To Mp3"
   ]
  },
  {
   "cell_type": "code",
   "execution_count": null,
   "id": "f6158c11",
   "metadata": {},
   "outputs": [],
   "source": [
    "video.audio.write_audiofile(r'/Users/katlegomatebane/Desktop/Audio.mp3')"
   ]
  }
 ],
 "metadata": {
  "kernelspec": {
   "display_name": "Python 3 (ipykernel)",
   "language": "python",
   "name": "python3"
  },
  "language_info": {
   "codemirror_mode": {
    "name": "ipython",
    "version": 3
   },
   "file_extension": ".py",
   "mimetype": "text/x-python",
   "name": "python",
   "nbconvert_exporter": "python",
   "pygments_lexer": "ipython3",
   "version": "3.9.13"
  }
 },
 "nbformat": 4,
 "nbformat_minor": 5
}
